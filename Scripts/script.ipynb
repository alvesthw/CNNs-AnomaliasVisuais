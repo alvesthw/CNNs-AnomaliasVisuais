{
 "cells": [
  {
   "cell_type": "code",
   "execution_count": null,
   "id": "7e56c5fb",
   "metadata": {
    "vscode": {
     "languageId": "plaintext"
    }
   },
   "outputs": [],
   "source": []
  }
 ],
 "metadata": {
  "language_info": {
   "name": "python"
  }
 },
 "nbformat": 4,
 "nbformat_minor": 5
}
