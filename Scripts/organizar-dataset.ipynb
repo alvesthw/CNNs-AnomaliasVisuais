{
 "cells": [
  {
   "cell_type": "code",
   "execution_count": 5,
   "id": "00ffe3df",
   "metadata": {},
   "outputs": [],
   "source": [
    "import os\n",
    "import pandas as pd\n",
    "from collections import defaultdict"
   ]
  },
  {
   "cell_type": "code",
   "execution_count": 2,
   "id": "508a1d32",
   "metadata": {},
   "outputs": [],
   "source": [
    "pasta = r'C:/Users/816695/Desktop/Scripts/tcc/script-dataset/dataset'"
   ]
  },
  {
   "cell_type": "code",
   "execution_count": 6,
   "id": "4d58c831",
   "metadata": {},
   "outputs": [
    {
     "name": "stdout",
     "output_type": "stream",
     "text": [
      "Quantidade total de arquivos: 1570\n",
      "Tipos de arquivos encontrados:\n",
      ".json: 785\n",
      ".tiff: 785\n"
     ]
    }
   ],
   "source": [
    "# Dicionário para contar tipos de arquivos por extensão\n",
    "tipos_de_arquivos = defaultdict(int)\n",
    "quantidade_total = 0\n",
    "\n",
    "# Percorre todas as subpastas e arquivos\n",
    "for raiz, _, arquivos in os.walk(pasta):\n",
    "    for arquivo in arquivos:\n",
    "        quantidade_total += 1\n",
    "        extensao = os.path.splitext(arquivo)[1].lower()\n",
    "        tipos_de_arquivos[extensao] += 1\n",
    "\n",
    "# Exibe os resultados\n",
    "print(f\"Quantidade total de arquivos: {quantidade_total}\")\n",
    "print(\"Tipos de arquivos encontrados:\")\n",
    "for extensao, quantidade in tipos_de_arquivos.items():\n",
    "    print(f\"{extensao or '[sem extensão]'}: {quantidade}\")"
   ]
  }
 ],
 "metadata": {
  "kernelspec": {
   "display_name": ".venv310",
   "language": "python",
   "name": "python3"
  },
  "language_info": {
   "codemirror_mode": {
    "name": "ipython",
    "version": 3
   },
   "file_extension": ".py",
   "mimetype": "text/x-python",
   "name": "python",
   "nbconvert_exporter": "python",
   "pygments_lexer": "ipython3",
   "version": "3.10.0"
  }
 },
 "nbformat": 4,
 "nbformat_minor": 5
}
